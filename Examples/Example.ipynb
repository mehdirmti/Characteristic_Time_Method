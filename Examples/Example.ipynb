{
 "cells": [
  {
   "cell_type": "markdown",
   "metadata": {},
   "source": [
    "#  Libraries"
   ]
  },
  {
   "cell_type": "code",
   "execution_count": 14,
   "metadata": {},
   "outputs": [],
   "source": [
    "import pandas as pd \n",
    "import numpy as np \n",
    "\n",
    "import sys\n",
    "sys.path.append('../Codes/')\n",
    "\n",
    "from Algorithm import CTM"
   ]
  },
  {
   "cell_type": "markdown",
   "metadata": {},
   "source": [
    "# Reading data from EXCEL"
   ]
  },
  {
   "cell_type": "code",
   "execution_count": 15,
   "metadata": {},
   "outputs": [
    {
     "data": {
      "text/html": [
       "<div>\n",
       "<style scoped>\n",
       "    .dataframe tbody tr th:only-of-type {\n",
       "        vertical-align: middle;\n",
       "    }\n",
       "\n",
       "    .dataframe tbody tr th {\n",
       "        vertical-align: top;\n",
       "    }\n",
       "\n",
       "    .dataframe thead th {\n",
       "        text-align: right;\n",
       "    }\n",
       "</style>\n",
       "<table border=\"1\" class=\"dataframe\">\n",
       "  <thead>\n",
       "    <tr style=\"text-align: right;\">\n",
       "      <th></th>\n",
       "      <th>T [h]</th>\n",
       "      <th>I [cm]</th>\n",
       "    </tr>\n",
       "  </thead>\n",
       "  <tbody>\n",
       "    <tr>\n",
       "      <th>0</th>\n",
       "      <td>0.0000</td>\n",
       "      <td>0.000000</td>\n",
       "    </tr>\n",
       "    <tr>\n",
       "      <th>1</th>\n",
       "      <td>0.0019</td>\n",
       "      <td>0.047233</td>\n",
       "    </tr>\n",
       "    <tr>\n",
       "      <th>2</th>\n",
       "      <td>0.0020</td>\n",
       "      <td>0.048085</td>\n",
       "    </tr>\n",
       "    <tr>\n",
       "      <th>3</th>\n",
       "      <td>0.0021</td>\n",
       "      <td>0.048916</td>\n",
       "    </tr>\n",
       "    <tr>\n",
       "      <th>4</th>\n",
       "      <td>0.0022</td>\n",
       "      <td>0.049980</td>\n",
       "    </tr>\n",
       "  </tbody>\n",
       "</table>\n",
       "</div>"
      ],
      "text/plain": [
       "    T [h]    I [cm]\n",
       "0  0.0000  0.000000\n",
       "1  0.0019  0.047233\n",
       "2  0.0020  0.048085\n",
       "3  0.0021  0.048916\n",
       "4  0.0022  0.049980"
      ]
     },
     "execution_count": 15,
     "metadata": {},
     "output_type": "execute_result"
    }
   ],
   "source": [
    "File_Location = '../Data/vzj220068-sup-0002-suppdata.xlsx'  # Change the direction based on your file location\n",
    "Sheet_Name = 'Clay' # Does the calculation for Clay soil. Change it accordingly\n",
    "data = pd.read_excel(File_Location, Sheet_Name)\n",
    "\n",
    "data.head()"
   ]
  },
  {
   "cell_type": "markdown",
   "metadata": {},
   "source": [
    "# Predicting S and Ks"
   ]
  },
  {
   "cell_type": "code",
   "execution_count": 16,
   "metadata": {},
   "outputs": [
    {
     "name": "stdout",
     "output_type": "stream",
     "text": [
      "--------------------------------\n",
      "-----------> Results <----------\n",
      "--------------------------------\n",
      "Predicted S = 1.04 [L/sqrt(T)]\n",
      "Predicted Ks 0.19 [L/T]\n",
      "t_char = 81.04 [T]\n",
      "I_char = 18.8 [L],\n",
      "omega = 0.5 [-]\n"
     ]
    }
   ],
   "source": [
    "\n",
    "t_char, I_char, Sp, Kp, omega = CTM(data['T [h]'], data['I [cm]'], beta = 0.6, epsilon=0.001, d = 0.001)\n",
    "\n",
    "# Printing the results\n",
    "print('--------------------------------')\n",
    "print('-----------> Results <----------')\n",
    "print('--------------------------------')\n",
    "print('Predicted S =', round(Sp, 2), '[L/sqrt(T)]')\n",
    "print('Predicted Ks', round(Kp,2), '[L/T]')\n",
    "print('t_char =', round(t_char,2), '[T]')\n",
    "print('I_char =', round(I_char,2), '[L],')\n",
    "print('omega =', round(omega,2), '[-]')"
   ]
  }
 ],
 "metadata": {
  "kernelspec": {
   "display_name": "ctm",
   "language": "python",
   "name": "python3"
  },
  "language_info": {
   "codemirror_mode": {
    "name": "ipython",
    "version": 3
   },
   "file_extension": ".py",
   "mimetype": "text/x-python",
   "name": "python",
   "nbconvert_exporter": "python",
   "pygments_lexer": "ipython3",
   "version": "3.12.5"
  }
 },
 "nbformat": 4,
 "nbformat_minor": 2
}
